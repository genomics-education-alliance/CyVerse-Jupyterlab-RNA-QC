{
 "cells": [
  {
   "cell_type": "markdown",
   "metadata": {},
   "source": [
    "# Trimming bad data"
   ]
  },
  {
   "cell_type": "markdown",
   "metadata": {},
   "source": [
    "There are two ways of filtering data: trimming ends that may have very low quality, or removing\n",
    "reads that are low quality. In general, short-read sequence aligners take quality information\n",
    "into account, and so conservative trimming and filtering is not necessary. However, if you have\n",
    "a run with very low quality ends, trimming those ends can help your analysis, especially if you\n",
    "are assembly a de novo transcriptome. "
   ]
  },
  {
   "cell_type": "markdown",
   "metadata": {},
   "source": [
    "There are a number of tools designed to help you control read quality, each with their own\n",
    "benefits. For today, we will use a program called ’Trimmomatic’ because it does a great job of\n",
    "explicitly handling paired-end data like these. To call Trimmomatic, we will use java, and simply pass the arguments we want to use. For more detail\n",
    "on each option, go to the website: [http://www.usadellab.org/cms/?page=trimmomatic](http://www.usadellab.org/cms/?page=trimmomatic).\n",
    "\n",
    "*One Note:*\n",
    "paired-end data requires two outputs for each file, one for those that match the opposite\n",
    "direction read, and one for those that don’t. The code below is an example that may be a helpful\n",
    "starting point; note that the ‘\\’ at the end of each line means ‘put this all on one line; don’t hit\n",
    "return yet’ and can either be copied in directly (and interpreted by the console), or omitted to\n",
    "put everything on one line (interpreted by you)."
   ]
  },
  {
   "cell_type": "markdown",
   "metadata": {},
   "source": [
    "Let's again check our input files to trim: "
   ]
  },
  {
   "cell_type": "code",
   "execution_count": null,
   "metadata": {},
   "outputs": [],
   "source": [
    "cd /home/gea_user/rna-seq-project/data\n",
    "ls"
   ]
  },
  {
   "cell_type": "markdown",
   "metadata": {},
   "source": [
    "These are all single end files, and we can use the following loop to process them all"
   ]
  },
  {
   "cell_type": "code",
   "execution_count": null,
   "metadata": {},
   "outputs": [],
   "source": [
    "for infile in /home/gea_user/rna-seq-project/data/*.fq\n",
    " do\n",
    " base=$(echo ${infile}|cut -f1 -d \".\"|cut -f6 -d \"/\")\n",
    " trimmomatic\\\n",
    "  SE -phred64 ${infile} ${base}_trimmed.fq\\\n",
    "  CROP:85 HEADCROP:4\\\n",
    "  LEADING:3 TRAILING:3\\\n",
    "  SLIDINGWINDOW:4:15 MINLEN:30\n",
    " done"
   ]
  },
  {
   "cell_type": "markdown",
   "metadata": {},
   "source": [
    "We now have 16 trimmed fastq files"
   ]
  },
  {
   "cell_type": "code",
   "execution_count": null,
   "metadata": {},
   "outputs": [],
   "source": [
    "ls *_trimmed.fq"
   ]
  },
  {
   "cell_type": "markdown",
   "metadata": {},
   "source": [
    "let's move these to a directory"
   ]
  },
  {
   "cell_type": "code",
   "execution_count": null,
   "metadata": {},
   "outputs": [],
   "source": [
    "mkdir /home/gea_user/rna-seq-project/trimmed-reads\n",
    "mv *_trimmed.fq /home/gea_user/rna-seq-project/trimmed-reads"
   ]
  },
  {
   "cell_type": "markdown",
   "metadata": {},
   "source": [
    "Let's run another round of fastqc on the trimmed results to compare"
   ]
  },
  {
   "cell_type": "code",
   "execution_count": null,
   "metadata": {},
   "outputs": [],
   "source": [
    "cd /home/gea_user/rna-seq-project/trimmed-reads\n",
    "fastqc *.fq"
   ]
  },
  {
   "cell_type": "markdown",
   "metadata": {},
   "source": [
    "Let's move these results to their own space"
   ]
  },
  {
   "cell_type": "code",
   "execution_count": null,
   "metadata": {},
   "outputs": [],
   "source": [
    "mkdir -p /home/gea_user/rna-seq-project/trimmed-reads/fastqc-results\n",
    "mv *.html /home/gea_user/rna-seq-project/trimmed-reads/fastqc-results\n",
    "mv *.zip /home/gea_user/rna-seq-project/trimmed-reads/fastqc-results"
   ]
  },
  {
   "cell_type": "markdown",
   "metadata": {},
   "source": [
    "You can browse your HTML (website) results in the filebrowser on the left (rna-seq-project > trimmed-reads> fastqc-results). "
   ]
  }
 ],
 "metadata": {
  "kernelspec": {
   "display_name": "Bash",
   "language": "bash",
   "name": "bash"
  },
  "language_info": {
   "codemirror_mode": "shell",
   "file_extension": ".sh",
   "mimetype": "text/x-sh",
   "name": "bash"
  }
 },
 "nbformat": 4,
 "nbformat_minor": 2
}
